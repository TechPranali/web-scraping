{
 "cells": [
  {
   "cell_type": "markdown",
   "id": "df302df5-ff9d-4bab-b718-4bf376e187f8",
   "metadata": {},
   "source": [
    "# Web Mining and Applied NLP\n",
    "## Web Scraping and NLP with Requests, BeautifulSoup, and spaCy\n",
    "### Student Name: Pranali Baban Dhoable\n",
    "Github repo: https://github.com/TechPranali/web-scraping<br>\n",
    "Perform the tasks described in the Markdown cells below. When you have completed the assignment make sure your code cells have all been run (and have output beneath them) and ensure you have committed and pushed ALL of your changes to your assignment repository.<br>\n",
    "\n",
    "Every question that requires you to write code will have a code cell underneath it; you may either write your entire solution in that cell or write it in a python file (.py), then import and run the appropriate code to answer the question.<br>"
   ]
  },
  {
   "cell_type": "code",
   "execution_count": 1,
   "id": "c71a115c-74ec-4e3b-afd5-867ff55d33a5",
   "metadata": {},
   "outputs": [
    {
     "name": "stdout",
     "output_type": "stream",
     "text": [
      "Package            VersionAll prereqs installed.\n",
      "\n",
      "------------------ ----------\n",
      "annotated-types    0.6.0\n",
      "beautifulsoup4     4.12.3\n",
      "blis               0.7.11\n",
      "catalogue          2.0.10\n",
      "certifi            2024.2.2\n",
      "charset-normalizer 3.3.2\n",
      "click              8.1.7\n",
      "cloudpathlib       0.16.0\n",
      "colorama           0.4.6\n",
      "confection         0.1.4\n",
      "cymem              2.0.8\n",
      "html5lib           1.1\n",
      "idna               3.6\n",
      "Jinja2             3.1.3\n",
      "joblib             1.4.0\n",
      "langcodes          3.3.0\n",
      "MarkupSafe         2.1.5\n",
      "murmurhash         1.0.10\n",
      "nltk               3.8.1\n",
      "numpy              1.26.4\n",
      "packaging          24.0\n",
      "pip                23.2.1\n",
      "preshed            3.0.9\n",
      "pydantic           2.6.4\n",
      "pydantic_core      2.16.3\n",
      "regex              2023.12.25\n",
      "requests           2.31.0\n",
      "setuptools         69.2.0\n",
      "six                1.16.0\n",
      "smart-open         6.4.0\n",
      "soupsieve          2.5\n",
      "spacy              3.7.4\n",
      "spacy-legacy       3.0.12\n",
      "spacy-loggers      1.0.5\n",
      "spacytextblob      4.0.0\n",
      "srsly              2.4.8\n",
      "textblob           0.15.3\n",
      "thinc              8.2.3\n",
      "tqdm               4.66.2\n",
      "typer              0.9.4\n",
      "typing_extensions  4.11.0\n",
      "urllib3            2.2.1\n",
      "wasabi             1.1.2\n",
      "weasel             0.3.4\n",
      "webencodings       0.5.1\n"
     ]
    },
    {
     "name": "stderr",
     "output_type": "stream",
     "text": [
      "\n",
      "[notice] A new release of pip is available: 23.2.1 -> 24.0\n",
      "[notice] To update, run: python.exe -m pip install --upgrade pip\n"
     ]
    }
   ],
   "source": [
    "# Create and activate a Python virtual environment. \n",
    "# Before starting the project, try all these imports FIRST\n",
    "# Address any errors you get running this code cell \n",
    "# by installing the necessary packages into your active Python environment.\n",
    "# Try to resolve issues using your materials and the web.\n",
    "# If that doesn't work, ask for help in the discussion forums.\n",
    "# You can't complete the exercises until you import these - start early! \n",
    "# We also import pickle and Counter (included in the Python Standard Library).\n",
    "\n",
    "from collections import Counter\n",
    "import pickle\n",
    "import requests\n",
    "import spacy\n",
    "from bs4 import BeautifulSoup\n",
    "\n",
    "!pip list\n",
    "\n",
    "print('All prereqs installed.')"
   ]
  },
  {
   "cell_type": "code",
   "execution_count": null,
   "id": "2c891ae7-1a8c-452d-af66-bf5c33985354",
   "metadata": {},
   "outputs": [],
   "source": []
  }
 ],
 "metadata": {
  "kernelspec": {
   "display_name": "Python 3 (ipykernel)",
   "language": "python",
   "name": "python3"
  },
  "language_info": {
   "codemirror_mode": {
    "name": "ipython",
    "version": 3
   },
   "file_extension": ".py",
   "mimetype": "text/x-python",
   "name": "python",
   "nbconvert_exporter": "python",
   "pygments_lexer": "ipython3",
   "version": "3.12.1"
  }
 },
 "nbformat": 4,
 "nbformat_minor": 5
}
